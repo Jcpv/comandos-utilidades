{
 "cells": [
  {
   "cell_type": "markdown",
   "id": "d043178f",
   "metadata": {
    "vscode": {
     "languageId": "plaintext"
    }
   },
   "source": [
    "3. Instala GDAL y los bindings JNI\n",
    "\n",
    "Desde dentro del contenedor:\n",
    "\n",
    "apt-get update\n",
    "apt-get install -y gdal-bin libgdal-dev default-jdk\n",
    "\n",
    "\n",
    "Ahora instala los bindings de Java para GDAL:\n",
    "\n",
    "apt-get install -y libgdal-java\n",
    "\n",
    "\n",
    "Esto instalará el archivo libgdalalljni.so normalmente en:\n",
    "📁 /usr/lib/jni/libgdalalljni.so\n",
    "\n",
    "\n",
    "4. Configura el entorno para que Java encuentre las librerías\n",
    "\n",
    "GeoServer necesita saber dónde está libgdalalljni.so. Para eso, agrega esta variable de entorno:\n",
    "export LD_LIBRARY_PATH=/usr/lib/jni\n",
    "\n",
    "Además, si estás usando Tomcat, asegúrate de agregarlo también a su configuración Java. Puedes hacer esto directamente al arrancar con:\n",
    "export JAVA_OPTS=\"$JAVA_OPTS -Djava.library.path=/usr/lib/jni\"\n",
    "\n",
    "\n",
    "5. Reinicia el contenedor (o el proceso dentro)\n",
    "La forma más rápida es salir y reiniciar el contenedor:\n",
    "exit\n",
    "docker restart <nombre_del_contenedor>\n",
    "\n",
    "\n",
    "No deberías ver más:\n",
    "java.lang.UnsatisfiedLinkError: no gdalalljni in java.library.path\n",
    "\n",
    "\n",
    "En su lugar, deberías ver algo como:\n",
    "INFO [main] it.geosolutions.imageio.gdalframework.GDALUtilities.loadGDAL Successfully loaded GDAL native libs\n",
    "\n",
    "\n",
    "7. Haz que el cambio sea permanente (opcional pero recomendado)\n",
    "Los cambios que hagas dentro del contenedor se perderán si se borra o se actualiza. Para hacer esto permanente:\n",
    "\n",
    "Crea tu propio Dockerfile basado en la imagen actual, que instale GDAL y configure LD_LIBRARY_PATH.\n",
    "\n",
    "O usa un volumen con configuración externa y un docker-compose.yml que incluya:\n",
    "\n",
    "environment:\n",
    "  - LD_LIBRARY_PATH=/usr/lib/jni\n",
    "  - JAVA_OPTS=-Djava.library.path=/usr/lib/jni\n",
    "\n",
    "NOTA IMPORTANTE\n",
    "\n",
    "Si estás usando el plugin GDAL de GeoServer (gdal-plugin), también necesitas:\n",
    "\n",
    "Descargar el .zip del plugin desde:\n",
    "https://build.geoserver.org/geoserver/\n",
    "\n",
    "\n",
    "\n"
   ]
  }
 ],
 "metadata": {
  "language_info": {
   "name": "python"
  }
 },
 "nbformat": 4,
 "nbformat_minor": 5
}
